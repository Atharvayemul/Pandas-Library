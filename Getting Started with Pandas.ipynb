{
 "cells": [
  {
   "metadata": {},
   "cell_type": "markdown",
   "source": [
    "##### Pandas Series\n",
    "\n",
    "\n",
    "-  One dimensional Labelled Array\n",
    "\n",
    "\n",
    "-  The axis labels are collectively called Indexes\n",
    "\n",
    "\n",
    "-  A series is nothing but a column in a excel sheet\n",
    "\n",
    "\n",
    "-  Labels need not to be unique but of hashable type\n",
    "\n",
    "\n",
    "-  Supports both integer and label based indexing\n",
    "\n",
    "\n",
    "- List , Tuple , Dictionary || Sets not supported --> Unordered\n",
    "\n",
    "pandas.Series(data=None, index=None, dtype=None, name=None, copy=None, fastpath=<no_default>)\n",
    "- data : array-like iterable \n",
    "- index : array-like or index\n",
    "- dtype : Specify datatype Externally\n",
    "- name : Name given to the series\n",
    "- copy : bool default False Affects series or 1D ndarray input\n"
   ],
   "id": "e21460733ddc7768"
  },
  {
   "cell_type": "code",
   "id": "initial_id",
   "metadata": {
    "collapsed": true,
    "ExecuteTime": {
     "end_time": "2024-10-26T14:51:47.151452Z",
     "start_time": "2024-10-26T14:51:47.139192Z"
    }
   },
   "source": [
    "import pandas as pd\n",
    "\n",
    "list_1 = [1,2,3,4,5]\n",
    "tuple_1 = (1,2,3,4,5)\n",
    "set_1 = {1,2,3,4,5}\n",
    "dictionary = {\"one\":{\"one\":1},\"two\":{\"two\":2}}\n",
    "\n",
    "series_l = pd.Series(list_1)\n",
    "series_t = pd.Series(tuple_1)\n",
    "# series_s = pd.Series(set_1)\n",
    "series_d = pd.Series(dictionary)\n",
    "\n",
    "print(series_d.items())\n",
    "# series_d"
   ],
   "outputs": [
    {
     "name": "stdout",
     "output_type": "stream",
     "text": [
      "<zip object at 0x0000016F34F4E4C0>\n"
     ]
    }
   ],
   "execution_count": 21
  }
 ],
 "metadata": {
  "kernelspec": {
   "display_name": "Python 3",
   "language": "python",
   "name": "python3"
  },
  "language_info": {
   "codemirror_mode": {
    "name": "ipython",
    "version": 2
   },
   "file_extension": ".py",
   "mimetype": "text/x-python",
   "name": "python",
   "nbconvert_exporter": "python",
   "pygments_lexer": "ipython2",
   "version": "2.7.6"
  }
 },
 "nbformat": 4,
 "nbformat_minor": 5
}
